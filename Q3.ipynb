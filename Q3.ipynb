{
 "cells": [
  {
   "cell_type": "code",
   "execution_count": 2,
   "id": "587e1c36",
   "metadata": {},
   "outputs": [],
   "source": [
    "from matplotlib import pyplot as plt\n",
    "import numpy as np"
   ]
  },
  {
   "cell_type": "code",
   "execution_count": 68,
   "id": "79749f29",
   "metadata": {},
   "outputs": [
    {
     "data": {
      "text/plain": [
       "array([0.36758596, 0.        , 0.        ])"
      ]
     },
     "execution_count": 68,
     "metadata": {},
     "output_type": "execute_result"
    }
   ],
   "source": [
    "# Train Samples\n",
    "x = np.array([[0.5, 0.7, 0.2], [0.4, 0.1, 0.5]])\n",
    "y = np.array([[0.6, 0.3, 0.4]])\n",
    "\n",
    "# Weights and Bias\n",
    "w1 = np.array([[0.2, 0.15], [0.1, 0.2]])\n",
    "w2 = np.array([[0.3, 0.7]])\n",
    "j = np.array([[0.5, 0.8]])\n",
    "b = np.array([[0.2, 0.1]])\n",
    "\n",
    "# Learning Rates\n",
    "lr = 0.5\n",
    "\n",
    "# Inpur to hidden layer 2\n",
    "z = w1.dot(x)\n",
    "\n",
    "# Normalize with zero mean variation\n",
    "x = x - np.mean(x)\n",
    "x = x / np.std(x)\n",
    "\n",
    "# Scaling with j and biasing with b\n",
    "z = np.multiply(j, z.T) + b\n",
    "\n",
    "# Relu Activation\n",
    "z = w2.dot(z.T)\n",
    "z = np.array(list(map(relu, z[0])))\n",
    "z"
   ]
  },
  {
   "cell_type": "code",
   "execution_count": 48,
   "id": "2bd58d5a",
   "metadata": {},
   "outputs": [],
   "source": [
    "def relu(x):\n",
    "    if x > 0:\n",
    "        return x\n",
    "    return 0"
   ]
  },
  {
   "cell_type": "code",
   "execution_count": 89,
   "id": "bca4f306",
   "metadata": {},
   "outputs": [
    {
     "ename": "ValueError",
     "evalue": "operands could not be broadcast together with shapes (2,3) (1,2) ",
     "output_type": "error",
     "traceback": [
      "\u001b[1;31m---------------------------------------------------------------------------\u001b[0m",
      "\u001b[1;31mValueError\u001b[0m                                Traceback (most recent call last)",
      "\u001b[1;32m<ipython-input-89-bfc4e568d2b9>\u001b[0m in \u001b[0;36m<module>\u001b[1;34m\u001b[0m\n\u001b[0;32m     24\u001b[0m \u001b[1;33m\u001b[0m\u001b[0m\n\u001b[0;32m     25\u001b[0m     \u001b[1;31m# Scaling with j and biasing with b\u001b[0m\u001b[1;33m\u001b[0m\u001b[1;33m\u001b[0m\u001b[1;33m\u001b[0m\u001b[0m\n\u001b[1;32m---> 26\u001b[1;33m     \u001b[0mz\u001b[0m \u001b[1;33m=\u001b[0m \u001b[0mnp\u001b[0m\u001b[1;33m.\u001b[0m\u001b[0mmultiply\u001b[0m\u001b[1;33m(\u001b[0m\u001b[0mz\u001b[0m\u001b[1;33m,\u001b[0m \u001b[0mj\u001b[0m\u001b[1;33m)\u001b[0m \u001b[1;33m+\u001b[0m \u001b[0mb\u001b[0m\u001b[1;33m\u001b[0m\u001b[1;33m\u001b[0m\u001b[0m\n\u001b[0m\u001b[0;32m     27\u001b[0m \u001b[1;33m\u001b[0m\u001b[0m\n\u001b[0;32m     28\u001b[0m     \u001b[1;31m# Relu Activation\u001b[0m\u001b[1;33m\u001b[0m\u001b[1;33m\u001b[0m\u001b[1;33m\u001b[0m\u001b[0m\n",
      "\u001b[1;31mValueError\u001b[0m: operands could not be broadcast together with shapes (2,3) (1,2) "
     ]
    }
   ],
   "source": [
    "# Train Samples\n",
    "x = np.array([[0.5, 0.7, 0.2], [0.4, 0.1, 0.5]])\n",
    "y = np.array([[0.6, 0.3, 0.4]])\n",
    "\n",
    "# Weights and Bias\n",
    "w1 = np.array([[0.2, 0.15], [0.1, 0.2]])\n",
    "w2 = np.array([[0.3, 0.7]])\n",
    "j = np.array([[0.5, 0.8]])\n",
    "b = np.array([[0.2, 0.1]])\n",
    "\n",
    "# Normalize with zero mean variation\n",
    "x = (x - np.mean(x))/np.std(x)\n",
    "\n",
    "# Learning Rates\n",
    "lr = 0.5\n",
    "\n",
    "for i in range(2):\n",
    "    \n",
    "    # Inpur to hidden layer 2\n",
    "    z = w1.dot(x)\n",
    "\n",
    "    # Normalize with zero mean variation\n",
    "    z = (z - np.mean(z))/np.std(z)\n",
    "\n",
    "    # Scaling with j and biasing with b\n",
    "    z = np.multiply(z, j) + b\n",
    "    \n",
    "    # Relu Activation\n",
    "    z = w2.dot(z.T)\n",
    "    z = np.array(list(map(relu, z[0])))\n",
    "    # print(z)\n",
    "    \n",
    "    cost = np.sum((z - y)**2) / y.size\n",
    "    print(\"Cost After Iteration %i: %f\" %(i, cost))\n",
    "\n",
    "    # Updating Bias and Weight 2\n",
    "    dz = z - Y\n",
    "    dw2 = (1 / m) * np.dot(diff2, temp4.T)\n",
    "    db2 = (1 / m) * np.sum(diff2, axis=1, keepdims=True)"
   ]
  },
  {
   "cell_type": "code",
   "execution_count": null,
   "id": "bb5c98a5",
   "metadata": {},
   "outputs": [],
   "source": []
  }
 ],
 "metadata": {
  "kernelspec": {
   "display_name": "Python 3",
   "language": "python",
   "name": "python3"
  },
  "language_info": {
   "codemirror_mode": {
    "name": "ipython",
    "version": 3
   },
   "file_extension": ".py",
   "mimetype": "text/x-python",
   "name": "python",
   "nbconvert_exporter": "python",
   "pygments_lexer": "ipython3",
   "version": "3.8.8"
  }
 },
 "nbformat": 4,
 "nbformat_minor": 5
}
